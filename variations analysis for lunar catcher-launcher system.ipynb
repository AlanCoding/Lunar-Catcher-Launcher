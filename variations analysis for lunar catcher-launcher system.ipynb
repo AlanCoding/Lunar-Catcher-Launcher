{
 "cells": [
  {
   "cell_type": "code",
   "execution_count": 67,
   "metadata": {},
   "outputs": [],
   "source": [
    "from astropy.constants import M_earth, R_earth, G\n",
    "from astropy import units\n",
    "from math import pi, sqrt, cos\n",
    "# from prior spread sheet\n",
    "M_moon = 7.34767309e22*units.kg\n",
    "R_moon = 1737.0*units.km"
   ]
  },
  {
   "cell_type": "code",
   "execution_count": 68,
   "metadata": {},
   "outputs": [
    {
     "name": "stdout",
     "output_type": "stream",
     "text": [
      "4.90389580165e+12 m3 / s2\n"
     ]
    }
   ],
   "source": [
    "mu = G*M_moon\n",
    "print mu"
   ]
  },
  {
   "cell_type": "markdown",
   "metadata": {},
   "source": [
    "Calculation of catching velocity"
   ]
  },
  {
   "cell_type": "code",
   "execution_count": 69,
   "metadata": {},
   "outputs": [
    {
     "name": "stdout",
     "output_type": "stream",
     "text": [
      "1837.0 km\n"
     ]
    }
   ],
   "source": [
    "R_llo = 100*units.km+R_moon\n",
    "print R_llo"
   ]
  },
  {
   "cell_type": "code",
   "execution_count": 70,
   "metadata": {},
   "outputs": [
    {
     "name": "stdout",
     "output_type": "stream",
     "text": [
      "23.3442366858 m / s\n"
     ]
    }
   ],
   "source": [
    "# hohmann transfer\n",
    "# sqrt(mu/r1) * (sqrt(2 r2/(r1 + r2)) - 1)\n",
    "v_trans = ((mu/R_moon)**(0.5))*(sqrt(2*R_llo/(R_llo + R_moon)) - 1)\n",
    "v_trans = v_trans.decompose()\n",
    "print v_trans"
   ]
  },
  {
   "cell_type": "markdown",
   "metadata": {},
   "source": [
    "Variations in catching location with launch speed errors"
   ]
  },
  {
   "cell_type": "code",
   "execution_count": 71,
   "metadata": {},
   "outputs": [
    {
     "name": "stdout",
     "output_type": "stream",
     "text": [
      "1703.58186991 m / s\n"
     ]
    }
   ],
   "source": [
    "v1 = v_trans + (mu/R_moon)**(0.5)\n",
    "print v1"
   ]
  },
  {
   "cell_type": "code",
   "execution_count": 72,
   "metadata": {},
   "outputs": [],
   "source": [
    "# equation 1.18\n",
    "# https://www.scss.tcd.ie/Stephen.Farrell/ipn/background/Braeunig/orbmech1.htm_newton\n",
    "# Ra = Rp / [2 x GM / (Vp2 x Rp) - 1]\n",
    "def Ra_calc(Rp, Vp):\n",
    "    return Rp/(2*mu/(Rp*Vp**2)-1)"
   ]
  },
  {
   "cell_type": "code",
   "execution_count": 73,
   "metadata": {},
   "outputs": [
    {
     "name": "stdout",
     "output_type": "stream",
     "text": [
      "100.0 km\n",
      "4.44424533678 km\n",
      "443.810471265 m\n",
      "44.3749154938 m\n",
      "4.43743024266 m\n"
     ]
    }
   ],
   "source": [
    "# sanity check, the altitude the predicted gun velocity would give us\n",
    "print Ra_calc(R_moon, v1) - R_moon  # Same as LLO altitude we already put in\n",
    "print Ra_calc(R_moon, v1 + 1.0*units.m/units.s) - R_llo  # altitude we miss by, given 1 m/s error\n",
    "print (Ra_calc(R_moon, v1 + 0.1*units.m/units.s) - R_llo).si  # altitude we miss by, given 0.1 m/s error\n",
    "print (Ra_calc(R_moon, v1 + 0.01*units.m/units.s) - R_llo).si  # altitude we miss by, given 0.01 m/s error\n",
    "print (Ra_calc(R_moon, v1 + 0.001*units.m/units.s) - R_llo).si  # altitude we miss by, given 0.001 m/s error"
   ]
  },
  {
   "cell_type": "markdown",
   "metadata": {},
   "source": [
    "Consideration of a shortcut, more vertical, launch path"
   ]
  },
  {
   "cell_type": "code",
   "execution_count": 74,
   "metadata": {},
   "outputs": [
    {
     "name": "stdout",
     "output_type": "stream",
     "text": [
      "1610.84469681 m / s\n",
      "-23.0198107262 m / s\n"
     ]
    }
   ],
   "source": [
    "# Velocity at catch\n",
    "# orbital specific energy is constant\n",
    "v2 = (v1**2 + 2*mu*(1/R_llo-1/R_moon))**0.5\n",
    "print v2\n",
    "v_catch = v2 - (mu/R_llo)**0.5\n",
    "print v_catch"
   ]
  },
  {
   "cell_type": "code",
   "execution_count": 75,
   "metadata": {},
   "outputs": [
    {
     "data": {
      "text/latex": [
       "$-0.013512594 \\; \\mathrm{}$"
      ],
      "text/plain": [
       "<Quantity -0.013512594335928949>"
      ]
     },
     "execution_count": 75,
     "metadata": {},
     "output_type": "execute_result"
    }
   ],
   "source": [
    "v_catch/v1"
   ]
  },
  {
   "cell_type": "code",
   "execution_count": 76,
   "metadata": {},
   "outputs": [
    {
     "data": {
      "text/latex": [
       "$0.91626335 \\; \\mathrm{}$"
      ],
      "text/plain": [
       "<Quantity 0.9162633453764845>"
      ]
     },
     "execution_count": 76,
     "metadata": {},
     "output_type": "execute_result"
    }
   ],
   "source": [
    "# alternative, launch at 1-to-100 rise-to-run ratio\n",
    "# the run would be ballpark\n",
    "(100*units.km)*100/(2*pi*R_moon)  # pretty much the same"
   ]
  },
  {
   "cell_type": "markdown",
   "metadata": {},
   "source": [
    "Variations in catching velocity with horizontal direction errors"
   ]
  },
  {
   "cell_type": "code",
   "execution_count": 77,
   "metadata": {},
   "outputs": [
    {
     "name": "stdout",
     "output_type": "stream",
     "text": [
      "28.1145436976 m / s\n",
      "2.81145436976 m / s\n"
     ]
    }
   ],
   "source": [
    "# cross-velocity if alignment is bad\n",
    "print v2*1*pi/180.  # for 1 degree mis-alignment\n",
    "print v2*0.1*pi/180.  # for 0.1 degree mis-alignment"
   ]
  },
  {
   "cell_type": "markdown",
   "metadata": {},
   "source": [
    "Calculation of separation distance needed at point of launch"
   ]
  },
  {
   "cell_type": "code",
   "execution_count": 78,
   "metadata": {},
   "outputs": [
    {
     "name": "stdout",
     "output_type": "stream",
     "text": [
      "1787.0 km\n"
     ]
    }
   ],
   "source": [
    "# semi-major axis of projectile\n",
    "a_proj = 0.5*(R_moon + R_llo)\n",
    "print a_proj"
   ]
  },
  {
   "cell_type": "code",
   "execution_count": 79,
   "metadata": {},
   "outputs": [
    {
     "name": "stdout",
     "output_type": "stream",
     "text": [
      "6777.91440862 s\n",
      "7064.36265434 s\n"
     ]
    }
   ],
   "source": [
    "# Period\n",
    "# T = 2 pi sqrt(a^3/mu)\n",
    "T_proj = 2*pi*(a_proj**3/mu)**0.5\n",
    "T_proj = T_proj.decompose()\n",
    "print T_proj\n",
    "T_station = 2*pi*(R_llo**3/mu)**0.5\n",
    "T_station = T_station.decompose()\n",
    "print T_station"
   ]
  },
  {
   "cell_type": "code",
   "execution_count": 80,
   "metadata": {},
   "outputs": [
    {
     "name": "stdout",
     "output_type": "stream",
     "text": [
      "143.224122857 s\n",
      "1633.86450754 m / s\n",
      "234.008810959 km\n"
     ]
    }
   ],
   "source": [
    "# The time delta between overhead pass and firing\n",
    "delta_t = 0.5*(T_station-T_proj)\n",
    "print delta_t\n",
    "# distance of separation (horizontally) when fired\n",
    "v_llo = (mu/R_llo)**(0.5)\n",
    "v_llo = v_llo.decompose()\n",
    "print v_llo\n",
    "delta_x = delta_t*v_llo\n",
    "print delta_x.to(units.km)"
   ]
  },
  {
   "cell_type": "markdown",
   "metadata": {},
   "source": [
    "Finding the rise of the orbit with downrange distance"
   ]
  },
  {
   "cell_type": "code",
   "execution_count": 81,
   "metadata": {},
   "outputs": [
    {
     "name": "stdout",
     "output_type": "stream",
     "text": [
      "0.0279798545048\n",
      "2959121.70804 km m / s\n"
     ]
    }
   ],
   "source": [
    "# the orbit equation\n",
    "# r=l^2 / (m^2 mu ) * 1 / (1 + e cos theta ) = lp^2 / mu * 1 / (1 + e cos theta )\n",
    "# e = (Ra-Rp)/(Ra+Rp)\n",
    "# l = m r^2 dtheta/dt = angular momentum = rmv\n",
    "# lp = rv = l/m\n",
    "e = (R_llo-R_moon)/(R_llo+R_moon)\n",
    "lp = v1*R_moon\n",
    "print e\n",
    "print lp"
   ]
  },
  {
   "cell_type": "code",
   "execution_count": 82,
   "metadata": {},
   "outputs": [],
   "source": [
    "def rise(theta):\n",
    "    r = lp**2/(mu*(1+e*cos(theta)))\n",
    "    return r.decompose()\n",
    "\n",
    "def rise_downrange(x):\n",
    "    return (rise(x/(R_moon)) - R_moon)"
   ]
  },
  {
   "cell_type": "code",
   "execution_count": 83,
   "metadata": {},
   "outputs": [
    {
     "name": "stdout",
     "output_type": "stream",
     "text": [
      "2.32830643654e-10 m\n",
      "7.68341124058e-09 m\n",
      "7.83707946539e-07 m\n",
      "0.00783485593274 m\n",
      "0.783483816544 m\n",
      "19.5860090861 m\n",
      "78.3304576443 m\n",
      "7654.41909606 m\n"
     ]
    }
   ],
   "source": [
    "# sanity checks\n",
    "print rise_downrange(0*units.m)\n",
    "print rise_downrange(1*units.m)\n",
    "print rise_downrange(10*units.m)\n",
    "print rise_downrange(1*units.km)\n",
    "print rise_downrange(10*units.km)\n",
    "print rise_downrange(50*units.km)\n",
    "print rise_downrange(100*units.km)\n",
    "print rise_downrange(1000*units.km)"
   ]
  },
  {
   "cell_type": "code",
   "execution_count": 84,
   "metadata": {},
   "outputs": [],
   "source": [
    "import matplotlib.pyplot as plt\n",
    "import numpy as np"
   ]
  },
  {
   "cell_type": "code",
   "execution_count": 85,
   "metadata": {},
   "outputs": [
    {
     "data": {
      "image/png": "[encoded data removed]",
      "text/plain": [
       "<matplotlib.figure.Figure at 0x10959a390>"
      ]
     },
     "metadata": {},
     "output_type": "display_data"
    }
   ],
   "source": [
    "upper = pi*R_moon/units.km\n",
    "distances = []\n",
    "for i in range(100):\n",
    "    distances.append(upper*i/100)\n",
    "alts = [rise_downrange(r*units.km)/units.m for r in distances]\n",
    "plt.plot(distances, alts)\n",
    "plt.xlabel('downrange (km)')\n",
    "plt.ylabel('height of projectile (m)')\n",
    "plt.title('Rise of projectile downrange')\n",
    "plt.grid(True)\n",
    "plt.savefig(\"downrange_rise.png\")\n",
    "plt.show()"
   ]
  },
  {
   "cell_type": "code",
   "execution_count": 110,
   "metadata": {},
   "outputs": [
    {
     "data": {
      "image/png": "[encoded data removed]",
      "text/plain": [
       "<matplotlib.figure.Figure at 0x109035790>"
      ]
     },
     "metadata": {},
     "output_type": "display_data"
    }
   ],
   "source": [
    "upper = 50.\n",
    "distances = []\n",
    "for i in range(100):\n",
    "    distances.append(upper*i/100)\n",
    "alts = [rise_downrange(r*units.km)/units.m for r in distances]\n",
    "plt.plot(distances, alts)\n",
    "plt.xlabel('downrange (km)')\n",
    "plt.ylabel('height of projectile (m)')\n",
    "plt.title('Rise of projectile downrange')\n",
    "plt.grid(True)\n",
    "plt.savefig(\"downrange_rise.png\")\n",
    "plt.show()"
   ]
  },
  {
   "cell_type": "markdown",
   "metadata": {},
   "source": [
    "Energy considerations for launch"
   ]
  },
  {
   "cell_type": "code",
   "execution_count": 86,
   "metadata": {},
   "outputs": [
    {
     "data": {
      "text/latex": [
       "$1451095.6 \\; \\mathrm{\\frac{m^{2}}{s^{2}}}$"
      ],
      "text/plain": [
       "<Quantity 1451095.5937499697 m2 / s2>"
      ]
     },
     "execution_count": 86,
     "metadata": {},
     "output_type": "execute_result"
    }
   ],
   "source": [
    "# specific energy of material launched\n",
    "0.5*v1**2"
   ]
  },
  {
   "cell_type": "code",
   "execution_count": 87,
   "metadata": {},
   "outputs": [
    {
     "data": {
      "text/plain": [
       "2"
      ]
     },
     "execution_count": 87,
     "metadata": {},
     "output_type": "execute_result"
    }
   ],
   "source": [
    "# https://en.wikipedia.org/wiki/Space-based_solar_power#Launch_costs\n",
    "# 4 GW / 80,000 metric tons\n",
    "4000*50/80000  # say mass is 50 tons"
   ]
  },
  {
   "cell_type": "code",
   "execution_count": 96,
   "metadata": {},
   "outputs": [
    {
     "name": "stdout",
     "output_type": "stream",
     "text": [
      "14128725.3087 s W\n",
      "9.73659169632 kg\n"
     ]
    }
   ],
   "source": [
    "e_orbit = T_station*2000*units.W\n",
    "print e_orbit\n",
    "m_launch = e_orbit/(0.5*v1**2)\n",
    "m_launch = m_launch.decompose()\n",
    "print m_launch"
   ]
  },
  {
   "cell_type": "code",
   "execution_count": 107,
   "metadata": {},
   "outputs": [
    {
     "data": {
      "text/latex": [
       "$419.8772 \\; \\mathrm{d}$"
      ],
      "text/plain": [
       "<Quantity 419.8771972656162 d>"
      ]
     },
     "execution_count": 107,
     "metadata": {},
     "output_type": "execute_result"
    }
   ],
   "source": [
    "# payoff time\n",
    "(50*units.t/m_launch*T_station).to(units.day)"
   ]
  },
  {
   "cell_type": "code",
   "execution_count": null,
   "metadata": {},
   "outputs": [],
   "source": []
  },
  {
   "cell_type": "code",
   "execution_count": null,
   "metadata": {},
   "outputs": [],
   "source": []
  },
  {
   "cell_type": "code",
   "execution_count": null,
   "metadata": {},
   "outputs": [],
   "source": []
  },
  {
   "cell_type": "code",
   "execution_count": null,
   "metadata": {},
   "outputs": [],
   "source": []
  }
 ],
 "metadata": {
  "kernelspec": {
   "display_name": "Python 2",
   "language": "python",
   "name": "python2"
  },
  "language_info": {
   "codemirror_mode": {
    "name": "ipython",
    "version": 2
   },
   "file_extension": ".py",
   "mimetype": "text/x-python",
   "name": "python",
   "nbconvert_exporter": "python",
   "pygments_lexer": "ipython2",
   "version": "2.7.11"
  }
 },
 "nbformat": 4,
 "nbformat_minor": 2
}
