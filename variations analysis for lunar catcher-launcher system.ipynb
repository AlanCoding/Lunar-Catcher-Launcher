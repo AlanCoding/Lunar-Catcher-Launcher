{
 "cells": [
  {
   "cell_type": "code",
   "execution_count": 16,
   "metadata": {},
   "outputs": [],
   "source": [
    "from astropy.constants import M_earth, R_earth, G\n",
    "from astropy import units\n",
    "from math import pi, sqrt\n",
    "# from prior spread sheet\n",
    "M_moon = 7.34767309e22*units.kg\n",
    "R_moon = 1737.0*units.km"
   ]
  },
  {
   "cell_type": "code",
   "execution_count": 18,
   "metadata": {},
   "outputs": [
    {
     "name": "stdout",
     "output_type": "stream",
     "text": [
      "4.90389580165e+12 m3 / s2\n"
     ]
    }
   ],
   "source": [
    "mu = G*M_moon\n",
    "print mu"
   ]
  },
  {
   "cell_type": "code",
   "execution_count": 11,
   "metadata": {},
   "outputs": [
    {
     "name": "stdout",
     "output_type": "stream",
     "text": [
      "1837.0 km\n"
     ]
    }
   ],
   "source": [
    "R_llo = 100*units.km+R_moon\n",
    "print R_llo"
   ]
  },
  {
   "cell_type": "code",
   "execution_count": 31,
   "metadata": {},
   "outputs": [
    {
     "name": "stdout",
     "output_type": "stream",
     "text": [
      "23.3442366858 m / s\n"
     ]
    }
   ],
   "source": [
    "# hohmann transfer\n",
    "# sqrt(mu/r1) * (sqrt(2 r2/(r1 + r2)) - 1)\n",
    "v_trans = ((mu/R_moon)**(0.5))*(sqrt(2*R_llo/(R_llo + R_moon)) - 1)\n",
    "v_trans = v_trans.decompose()\n",
    "print v_trans"
   ]
  },
  {
   "cell_type": "code",
   "execution_count": 33,
   "metadata": {},
   "outputs": [
    {
     "name": "stdout",
     "output_type": "stream",
     "text": [
      "1703.58186991 m / s\n"
     ]
    }
   ],
   "source": [
    "v1 = v_trans + (mu/R_moon)**(0.5)\n",
    "print v1"
   ]
  },
  {
   "cell_type": "code",
   "execution_count": 35,
   "metadata": {},
   "outputs": [],
   "source": [
    "# equation 1.18\n",
    "# https://www.scss.tcd.ie/Stephen.Farrell/ipn/background/Braeunig/orbmech1.htm_newton\n",
    "# Ra = Rp / [2 x GM / (Vp2 x Rp) - 1]\n",
    "def Ra_calc(Rp, Vp):\n",
    "    return Rp/(2*mu/(Rp*Vp**2)-1)"
   ]
  },
  {
   "cell_type": "code",
   "execution_count": 66,
   "metadata": {},
   "outputs": [
    {
     "name": "stdout",
     "output_type": "stream",
     "text": [
      "100.0 km\n",
      "4.44424533678 km\n",
      "443.810471265 m\n",
      "44.3749154938 m\n",
      "4.43743024266 m\n"
     ]
    }
   ],
   "source": [
    "# sanity check, the altitude the predicted gun velocity would give us\n",
    "print Ra_calc(R_moon, v1) - R_moon  # Same as LLO altitude we already put in\n",
    "print Ra_calc(R_moon, v1 + 1.0*units.m/units.s) - R_llo  # altitude we miss by, given 1 m/s error\n",
    "print (Ra_calc(R_moon, v1 + 0.1*units.m/units.s) - R_llo).si  # altitude we miss by, given 0.1 m/s error\n",
    "print (Ra_calc(R_moon, v1 + 0.01*units.m/units.s) - R_llo).si  # altitude we miss by, given 0.01 m/s error\n",
    "print (Ra_calc(R_moon, v1 + 0.001*units.m/units.s) - R_llo).si  # altitude we miss by, given 0.001 m/s error"
   ]
  },
  {
   "cell_type": "code",
   "execution_count": 55,
   "metadata": {},
   "outputs": [
    {
     "name": "stdout",
     "output_type": "stream",
     "text": [
      "1610.84469681 m / s\n",
      "-23.0198107262 m / s\n"
     ]
    }
   ],
   "source": [
    "# Velocity at catch\n",
    "# orbital specific energy is constant\n",
    "v2 = (v1**2 + 2*mu*(1/R_llo-1/R_moon))**0.5\n",
    "print v2\n",
    "v_catch = v2 - (mu/R_llo)**0.5\n",
    "print v_catch"
   ]
  },
  {
   "cell_type": "code",
   "execution_count": 57,
   "metadata": {},
   "outputs": [
    {
     "data": {
      "text/latex": [
       "$-0.013512594 \\; \\mathrm{}$"
      ],
      "text/plain": [
       "<Quantity -0.013512594335928949>"
      ]
     },
     "execution_count": 57,
     "metadata": {},
     "output_type": "execute_result"
    }
   ],
   "source": [
    "v_catch/v1"
   ]
  },
  {
   "cell_type": "code",
   "execution_count": 61,
   "metadata": {},
   "outputs": [
    {
     "data": {
      "text/latex": [
       "$0.91626335 \\; \\mathrm{}$"
      ],
      "text/plain": [
       "<Quantity 0.9162633453764845>"
      ]
     },
     "execution_count": 61,
     "metadata": {},
     "output_type": "execute_result"
    }
   ],
   "source": [
    "# alternative, launch at 1-to-100 rise-to-run ratio\n",
    "# the run would be ballpark\n",
    "(100*units.km)*100/(2*pi*R_moon)  # pretty much the same"
   ]
  },
  {
   "cell_type": "code",
   "execution_count": 65,
   "metadata": {},
   "outputs": [
    {
     "data": {
      "text/latex": [
       "$2.8114544 \\; \\mathrm{\\frac{m}{s}}$"
      ],
      "text/plain": [
       "<Quantity 2.8114543697631715 m / s>"
      ]
     },
     "execution_count": 65,
     "metadata": {},
     "output_type": "execute_result"
    }
   ],
   "source": [
    "# cross-velocity if alignment is bad\n",
    "v2*1*pi/180.  # for 1 degree mis-alignment\n",
    "v2*0.1*pi/180.  # for 0.1 degree mis-alignment"
   ]
  },
  {
   "cell_type": "code",
   "execution_count": null,
   "metadata": {},
   "outputs": [],
   "source": []
  },
  {
   "cell_type": "code",
   "execution_count": null,
   "metadata": {},
   "outputs": [],
   "source": []
  },
  {
   "cell_type": "code",
   "execution_count": null,
   "metadata": {},
   "outputs": [],
   "source": []
  },
  {
   "cell_type": "code",
   "execution_count": null,
   "metadata": {},
   "outputs": [],
   "source": []
  },
  {
   "cell_type": "code",
   "execution_count": null,
   "metadata": {},
   "outputs": [],
   "source": []
  }
 ],
 "metadata": {
  "kernelspec": {
   "display_name": "Python 2",
   "language": "python",
   "name": "python2"
  },
  "language_info": {
   "codemirror_mode": {
    "name": "ipython",
    "version": 2
   },
   "file_extension": ".py",
   "mimetype": "text/x-python",
   "name": "python",
   "nbconvert_exporter": "python",
   "pygments_lexer": "ipython2",
   "version": "2.7.11"
  }
 },
 "nbformat": 4,
 "nbformat_minor": 2
}
